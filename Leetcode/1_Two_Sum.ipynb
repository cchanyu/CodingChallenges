{
 "cells": [
  {
   "attachments": {},
   "cell_type": "markdown",
   "metadata": {},
   "source": [
    "### 2-Sum<br>\n",
    "\n",
    "***\n",
    "\n",
    "<br>"
   ]
  },
  {
   "attachments": {},
   "cell_type": "markdown",
   "metadata": {},
   "source": [
    "Given an array of integers nums and an integer target, return indices of the two numbers such that they add up to target.<br>\n",
    "\n",
    "You may assume that each input would have exactly one solution, and you may not use the same element twice.<br>\n",
    "\n",
    "You can return the answer in any order.<br>\n",
    "\n",
    ">Input: nums = [2,7,11,15], target = 9<br>\n",
    "Output: [0,1]<br>\n",
    "Explanation: Because nums[0] + nums[1] == 9, we return [0, 1].<br>"
   ]
  },
  {
   "cell_type": "code",
   "execution_count": null,
   "metadata": {},
   "outputs": [],
   "source": [
    "'''\n",
    "two sum can not use sliding window technique,\n",
    "because it's not a sorted array.\n",
    "\n",
    "two sum needs to use dict\n",
    "and check whether there's a match\n",
    "'''"
   ]
  },
  {
   "cell_type": "code",
   "execution_count": null,
   "metadata": {},
   "outputs": [],
   "source": [
    "# Naive approach\n",
    "class Solution(object):\n",
    "    def twoSum(self, nums, target):\n",
    "        for ind1, num1 in enumerate(nums):\n",
    "            for ind2, num2 in enumerate(nums[(ind1 + 1):]):\n",
    "                if (num1 + num2) == target:\n",
    "                    return [ind1, (ind2 + ind1 + 1)]"
   ]
  },
  {
   "cell_type": "code",
   "execution_count": null,
   "metadata": {},
   "outputs": [],
   "source": [
    "# Python list approach\n",
    "class Solution(object):\n",
    "    def twoSum(self, nums, target):\n",
    "        ans = []\n",
    "        length = len(nums)\n",
    "        for i in range(length):\n",
    "            for j in range(i+1, length):\n",
    "                if(nums[i] + nums[j] == target):\n",
    "                    ans.append(i)\n",
    "                    ans.append(j)\n",
    "        return ans\n",
    "    \n",
    "# time complexity:\n",
    "# O(n^2) = 2 for loop\n",
    "\n",
    "# space complexity:\n",
    "# O(n)"
   ]
  },
  {
   "cell_type": "code",
   "execution_count": null,
   "metadata": {},
   "outputs": [],
   "source": [
    "# Python dict approach\n",
    "class Solution:\n",
    "    def twoSum(self, nums: List[int], target: int) -> List[int]:\n",
    "        lookup = {}\n",
    "\n",
    "        for i in range(len(nums)):\n",
    "            print(i)\n",
    "            otherNum = target - nums[i]\n",
    "\n",
    "            if otherNum in lookup:\n",
    "                return [i, lookup[otherNum]]\n",
    "            \n",
    "            lookup[nums[i]] = i\n",
    "\n",
    "# time complexity:\n",
    "# O(n)"
   ]
  },
  {
   "cell_type": "code",
   "execution_count": 1,
   "metadata": {},
   "outputs": [
    {
     "name": "stdout",
     "output_type": "stream",
     "text": [
      "[0, 2]\n"
     ]
    }
   ],
   "source": [
    "# Python list(dict) approach\n",
    "from collections import defaultdict\n",
    "\n",
    "nums = [3, 2, 3]\n",
    "target = 6\n",
    "\n",
    "def twoSum(nums, target):\n",
    "    lookup = defaultdict(list)\n",
    "    for i, v in enumerate(nums):\n",
    "        temp = target - v # 6 - 3 = 3 temp\n",
    "        if temp in lookup: # if 3 in dict\n",
    "            return [lookup[temp][0],i] # return both\n",
    "        lookup[v].append(i) # otherwise add value to dict\n",
    "    return None\n",
    "\n",
    "\n",
    "def main():\n",
    "    sol = twoSum(nums, target)\n",
    "    print(sol)\n",
    "\n",
    "if __name__ == '__main__':\n",
    "    main()"
   ]
  },
  {
   "cell_type": "code",
   "execution_count": null,
   "metadata": {
    "vscode": {
     "languageId": "javascript"
    }
   },
   "outputs": [],
   "source": [
    "// Javascript\n"
   ]
  }
 ],
 "metadata": {
  "kernelspec": {
   "display_name": "Python 3",
   "language": "python",
   "name": "python3"
  },
  "language_info": {
   "codemirror_mode": {
    "name": "ipython",
    "version": 3
   },
   "file_extension": ".py",
   "mimetype": "text/x-python",
   "name": "python",
   "nbconvert_exporter": "python",
   "pygments_lexer": "ipython3",
   "version": "3.8.10"
  },
  "orig_nbformat": 4
 },
 "nbformat": 4,
 "nbformat_minor": 2
}
