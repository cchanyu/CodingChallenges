{
 "cells": [
  {
   "attachments": {},
   "cell_type": "markdown",
   "metadata": {},
   "source": [
    "### Contains Duplicate<br>\n",
    "\n",
    "***\n",
    "\n",
    "<br>"
   ]
  },
  {
   "cell_type": "code",
   "execution_count": null,
   "metadata": {},
   "outputs": [],
   "source": [
    "'''\n",
    "Given an integer array nums, return true if any value appears at least twice in the array, and return false if every element is distinct.\n",
    "\n",
    "Example 1:\n",
    "Input: nums = [1,2,3,1]\n",
    "Output: true\n",
    "\n",
    "Example 2:\n",
    "Input: nums = [1,2,3,4]\n",
    "Output: false\n",
    "\n",
    "Example 3:\n",
    "Input: nums = [1,1,1,3,3,4,3,2,4,2]\n",
    "Output: true\n",
    "\n",
    "Constraints:\n",
    "1 <= nums.length <= 105\n",
    "-109 <= nums[i] <= 109\n",
    "'''"
   ]
  },
  {
   "cell_type": "code",
   "execution_count": 1,
   "metadata": {},
   "outputs": [
    {
     "name": "stdout",
     "output_type": "stream",
     "text": [
      "True\n"
     ]
    }
   ],
   "source": [
    "'''\n",
    "you could use a set() and do .add(i), while checking if it's there\n",
    "or \n",
    "you could use dict() and .append(i), while checking if it's there\n",
    "\n",
    "set() seems to be more efficient\n",
    "'''\n",
    "# Python list(dict) approach\n",
    "\n",
    "from collections import defaultdict\n",
    "\n",
    "\n",
    "nums = [1,2,3,1] # true\n",
    "nums2 = [1,2,3,4] # false\n",
    "\n",
    "def containsDuplicate(nums):\n",
    "    check = defaultdict(list)\n",
    "    for i, v in enumerate(nums):\n",
    "        if v in check:\n",
    "            return True\n",
    "        check[v].append(nums[i])\n",
    "    return False\n",
    "\n",
    "def main():\n",
    "    sol = containsDuplicate(nums)\n",
    "    print(sol)\n",
    "\n",
    "if __name__ == '__main__':\n",
    "    main()"
   ]
  },
  {
   "cell_type": "code",
   "execution_count": null,
   "metadata": {},
   "outputs": [],
   "source": [
    "# Python set approach\n",
    "class Solution:\n",
    "    def containsDuplicate(self, nums: List[int]) -> bool:\n",
    "        element = set()\n",
    "        for n in nums:\n",
    "            if n in element:\n",
    "                return True\n",
    "            else:\n",
    "                element.add(n)\n",
    "        return False\n",
    "\n",
    "# time complexity\n",
    "# O(n)"
   ]
  },
  {
   "cell_type": "code",
   "execution_count": null,
   "metadata": {},
   "outputs": [],
   "source": [
    "# Python dict approach\n",
    "class Solution:\n",
    "    def containsDuplicate(self, nums: List[int]) -> bool:\n",
    "        lookup = {}\n",
    "        for i in nums:\n",
    "            if i in lookup:\n",
    "                return True\n",
    "            lookup[i] = i\n",
    "        return False\n",
    "\n",
    "# time complexity\n",
    "# O(n)"
   ]
  },
  {
   "cell_type": "code",
   "execution_count": null,
   "metadata": {
    "vscode": {
     "languageId": "javascript"
    }
   },
   "outputs": [],
   "source": [
    "// Javascript\n"
   ]
  }
 ],
 "metadata": {
  "kernelspec": {
   "display_name": "Python 3",
   "language": "python",
   "name": "python3"
  },
  "language_info": {
   "codemirror_mode": {
    "name": "ipython",
    "version": 3
   },
   "file_extension": ".py",
   "mimetype": "text/x-python",
   "name": "python",
   "nbconvert_exporter": "python",
   "pygments_lexer": "ipython3",
   "version": "3.8.10"
  },
  "orig_nbformat": 4
 },
 "nbformat": 4,
 "nbformat_minor": 2
}
