{
 "cells": [
  {
   "attachments": {},
   "cell_type": "markdown",
   "metadata": {},
   "source": [
    "### Product of Array Except Self<br>\n",
    "\n",
    "***\n",
    "\n",
    "Level: Easy<br>"
   ]
  },
  {
   "attachments": {},
   "cell_type": "markdown",
   "metadata": {},
   "source": [
    "https://leetcode.com/problems/product-of-array-except-self/"
   ]
  },
  {
   "cell_type": "code",
   "execution_count": null,
   "metadata": {},
   "outputs": [],
   "source": [
    "'''\n",
    "Given an integer array nums, return an array answer such that answer[i] is equal to the product of all the elements of nums except nums[i].\n",
    "\n",
    "The product of any prefix or suffix of nums is guaranteed to fit in a 32-bit integer.\n",
    "\n",
    "You must write an algorithm that runs in O(n) time and without using the division operation.\n",
    "\n",
    " \n",
    "\n",
    "Example 1:\n",
    "\n",
    "Input: nums = [1,2,3,4]\n",
    "Output: [24,12,8,6]\n",
    "Example 2:\n",
    "\n",
    "Input: nums = [-1,1,0,-3,3]\n",
    "Output: [0,0,9,0,0]\n",
    " \n",
    "\n",
    "Constraints:\n",
    "\n",
    "2 <= nums.length <= 105\n",
    "-30 <= nums[i] <= 30\n",
    "The product of any prefix or suffix of nums is guaranteed to fit in a 32-bit integer.\n",
    "'''"
   ]
  },
  {
   "cell_type": "code",
   "execution_count": null,
   "metadata": {},
   "outputs": [],
   "source": [
    "'''\n",
    "correct ans, but time exceeded in a large input, time complexity is at n^2, because of nested for loops\n",
    "'''\n",
    "import math\n",
    "from pickletools import read_unicodestringnl\n",
    "\n",
    "\n",
    "nums = [1,2,3,4] # [24,12,8,6]\n",
    "nums2 = [-1,1,0,-3,3] # [0,0,9,0,0]\n",
    "\n",
    "def productExceptSelf(nums):\n",
    "    idx1 = 0\n",
    "    ans = []\n",
    "    for i in range(len(nums)):\n",
    "        idx1 = i\n",
    "\n",
    "        select1 = nums[:idx1]\n",
    "        select2 = nums[idx1+1:]\n",
    "\n",
    "        # prod1 = math.prod(select1)\n",
    "        # prod2 = math.prod(select2)\n",
    "        prod1 = 1\n",
    "        for j in select1:\n",
    "            prod1 *= j\n",
    "        prod2 = 1\n",
    "        for k in select2:\n",
    "            prod2 *= k\n",
    "\n",
    "        ans.append(prod1 * prod2)\n",
    "    return ans\n",
    "        \n",
    "\n",
    "def main():\n",
    "    sol = productExceptSelf(nums)\n",
    "    print(sol)\n",
    "\n",
    "if __name__ == '__main__':\n",
    "    main()"
   ]
  },
  {
   "cell_type": "code",
   "execution_count": null,
   "metadata": {},
   "outputs": [],
   "source": [
    "# Python list approach\n",
    "'''\n",
    "time limit exceed, I guess reduce makes it a nested for loop\n",
    "'''\n",
    "class Solution:\n",
    "    def productExceptSelf(self, nums: List[int]) -> List[int]:\n",
    "        ans = []\n",
    "        for i in range(len(nums)):\n",
    "            num = nums.pop(i)\n",
    "            product = reduce(lambda x, y: x * y, nums)\n",
    "            ans.append(product)\n",
    "            nums.insert(i, num)\n",
    "        return ans"
   ]
  },
  {
   "cell_type": "code",
   "execution_count": null,
   "metadata": {},
   "outputs": [],
   "source": [
    "# Python reduced using reduce() inside of for loop\n",
    "class Solution:\n",
    "    def productExceptSelf(self, nums: List[int]) -> List[int]:\n",
    "        n = len(nums)\n",
    "        ans = [1] * n\n",
    "\n",
    "        # Compute the product of all elements in the array\n",
    "        product = reduce(lambda x, y: x * y, nums)\n",
    "\n",
    "        for i in range(n):\n",
    "            # Divide the total product by the element being removed\n",
    "            if nums[i] != 0:\n",
    "                ans[i] = product // nums[i]\n",
    "            else:\n",
    "                # Special case when the element is 0\n",
    "                ans[i] = reduce(lambda x, y: x * y, nums[:i] + nums[i+1:])\n",
    "\n",
    "        return ans"
   ]
  },
  {
   "cell_type": "code",
   "execution_count": null,
   "metadata": {},
   "outputs": [],
   "source": [
    "# Python \n",
    "class Solution:\n",
    "    def productExceptSelf(self, nums: List[int]) -> List[int]:\n",
    "        # Initialize two arrays to store the products to the left and right of each element\n",
    "        n = len(nums)\n",
    "        left, right = [None] * n, [None] * n\n",
    "\n",
    "        # Compute the products to the left of each element\n",
    "        for i in range(1, n):\n",
    "            left[i] = left[i-1] * nums[i-1]\n",
    "\n",
    "        # Compute the products to the right of each element\n",
    "        for i in range(n-2, -1, -1):\n",
    "            right[i] = right[i+1] * nums[i+1]\n",
    "\n",
    "        # Compute the final result by multiplying the corresponding elements from left and right\n",
    "        result = [left[i] * right[i] for i in range(n)]\n",
    "        return result\n",
    "    \n",
    "# time complexity\n",
    "# O(n)"
   ]
  }
 ],
 "metadata": {
  "language_info": {
   "name": "python"
  },
  "orig_nbformat": 4
 },
 "nbformat": 4,
 "nbformat_minor": 2
}
