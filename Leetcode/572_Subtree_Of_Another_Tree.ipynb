{
 "cells": [
  {
   "attachments": {},
   "cell_type": "markdown",
   "metadata": {},
   "source": [
    "### 572. Subtree of Another Tree<br>\n",
    "\n",
    "***\n",
    "\n",
    "Level: Easy<br>"
   ]
  },
  {
   "attachments": {},
   "cell_type": "markdown",
   "metadata": {},
   "source": [
    "https://leetcode.com/problems/subtree-of-another-tree/"
   ]
  },
  {
   "cell_type": "code",
   "execution_count": null,
   "metadata": {},
   "outputs": [],
   "source": [
    "# Given the roots of two binary trees root and subRoot, return true if there is a subtree of root with the same structure and node values of subRoot and false otherwise.\n",
    "\n",
    "# A subtree of a binary tree tree is a tree that consists of a node in tree and all of this node's descendants. The tree tree could also be considered as a subtree of itself.\n",
    "\n",
    " \n",
    "\n",
    "# Example 1:\n",
    "\n",
    "\n",
    "# Input: root = [3,4,5,1,2], subRoot = [4,1,2]\n",
    "# Output: true\n",
    "# Example 2:\n",
    "\n",
    "\n",
    "# Input: root = [3,4,5,1,2,null,null,null,null,0], subRoot = [4,1,2]\n",
    "# Output: false\n",
    " \n",
    "\n",
    "# Constraints:\n",
    "\n",
    "# The number of nodes in the root tree is in the range [1, 2000].\n",
    "# The number of nodes in the subRoot tree is in the range [1, 1000].\n",
    "# -104 <= root.val <= 104\n",
    "# -104 <= subRoot.val <= 104"
   ]
  },
  {
   "cell_type": "code",
   "execution_count": null,
   "metadata": {},
   "outputs": [],
   "source": [
    "# Definition for a binary tree node.\n",
    "# class TreeNode(object):\n",
    "#     def __init__(self, val=0, left=None, right=None):\n",
    "#         self.val = val\n",
    "#         self.left = left\n",
    "#         self.right = right\n",
    "class Solution(object):\n",
    "    def isSubtree(self, root, subRoot):\n",
    "        \"\"\"\n",
    "        :type root: TreeNode\n",
    "        :type subRoot: TreeNode\n",
    "        :rtype: bool\n",
    "        \"\"\"\n",
    "        if not root: \n",
    "            return False\n",
    "        if self.isSameTree(root, subRoot): \n",
    "            return True\n",
    "        return self.isSubtree(root.left, subRoot) or self.isSubtree(root.right, subRoot)\n",
    "\n",
    "    def isSameTree(self, p, q):\n",
    "        if p and q:\n",
    "            return p.val == q.val and self.isSameTree(p.left, q.left) and self.isSameTree(p.right, q.right)\n",
    "        return p is q\n"
   ]
  },
  {
   "attachments": {},
   "cell_type": "markdown",
   "metadata": {},
   "source": [
    "print(root)<br>\n",
    "TreeNode{val: 3, left: TreeNode{val: 4, left: TreeNode{val: 1, left: None, right: None}, right: TreeNode{val: 2, left: None, right: None}}, right: TreeNode{val: 5, left: None, right: None}}<br>\n",
    "TreeNode{val: 4, left: TreeNode{val: 1, left: None, right: None}, right: TreeNode{val: 2, left: None, right: None}}<br>\n",
    "\n",
    "print(subRoot)<br>\n",
    "TreeNode{val: 4, left: TreeNode{val: 1, left: None, right: None}, right: TreeNode{val: 2, left: None, right: None}}<br>\n",
    "TreeNode{val: 4, left: TreeNode{val: 1, left: None, right: None}, right: TreeNode{val: 2, left: None, right: None}}<br>\n",
    "\n",
    "    if not root:\n",
    "        return False\n",
    "if there is no root, return false<br>\n",
    "\n",
    "    if self.isSameTree(root, subRoot): \n",
    "        return True\n",
    "this calls recursive function with 3 conditions<br>\n",
    "\n",
    "    p.val == q.val\n",
    "the root's head and subroot's head matches<br>\n",
    "\n",
    "    self.isSameTree(p.left, q.left) and self.isSameTree(p.right, q.right)\n",
    "recursive call until tree is the same"
   ]
  }
 ],
 "metadata": {
  "language_info": {
   "name": "python"
  },
  "orig_nbformat": 4
 },
 "nbformat": 4,
 "nbformat_minor": 2
}
