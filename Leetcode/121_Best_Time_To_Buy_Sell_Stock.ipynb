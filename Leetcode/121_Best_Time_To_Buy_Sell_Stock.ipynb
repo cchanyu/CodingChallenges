{
 "cells": [
  {
   "attachments": {},
   "cell_type": "markdown",
   "metadata": {},
   "source": [
    "### Best Time to Buy and Sell Stock<br>\n",
    "\n",
    "***\n",
    "\n",
    "Level: Easy<br>"
   ]
  },
  {
   "attachments": {},
   "cell_type": "markdown",
   "metadata": {},
   "source": [
    "https://leetcode.com/problems/best-time-to-buy-and-sell-stock/"
   ]
  },
  {
   "cell_type": "code",
   "execution_count": null,
   "metadata": {},
   "outputs": [],
   "source": [
    "'''\n",
    "You are given an array prices where prices[i] is the price of a given stock on the ith day.\n",
    "You want to maximize your profit by choosing a single day to buy one stock and choosing a different day in the future to sell that stock.\n",
    "Return the maximum profit you can achieve from this transaction. If you cannot achieve any profit, return 0.\n",
    "\n",
    "Example 1:\n",
    "Input: prices = [7,1,5,3,6,4]\n",
    "Output: 5\n",
    "Explanation: Buy on day 2 (price = 1) and sell on day 5 (price = 6), profit = 6-1 = 5.\n",
    "Note that buying on day 2 and selling on day 1 is not allowed because you must buy before you sell.\n",
    "\n",
    "Example 2:\n",
    "Input: prices = [7,6,4,3,1]\n",
    "Output: 0\n",
    "Explanation: In this case, no transactions are done and the max profit = 0.\n",
    " \n",
    "Constraints:\n",
    "1 <= prices.length <= 105\n",
    "0 <= prices[i] <= 104\n",
    "'''"
   ]
  },
  {
   "cell_type": "code",
   "execution_count": 1,
   "metadata": {},
   "outputs": [
    {
     "name": "stdout",
     "output_type": "stream",
     "text": [
      "5\n"
     ]
    }
   ],
   "source": [
    "'''\n",
    "loop through the list\n",
    "and use temp to learn the profit\n",
    "if the profit is greater than existing max, replace it\n",
    "also if min price is lower, replace it\n",
    "'''\n",
    "\n",
    "from collections import defaultdict\n",
    "from traitlets import default\n",
    "\n",
    "\n",
    "prices = [7,1,5,3,6,4] # output: 5\n",
    "prices2 = [7,6,4,3,1] # output: 0\n",
    "\n",
    "def maxProfit(prices):\n",
    "    max_profit = 0\n",
    "    min_price = prices[0]\n",
    "    for i,v in enumerate(prices):\n",
    "        profit = prices[i] - min_price # temp profit\n",
    "        max_profit = max(profit, max_profit) # comparing to existing profit\n",
    "        min_price = min(min_price, prices[i]) # comparing the min price\n",
    "    return max_profit\n",
    "\n",
    "def main():\n",
    "    sol = maxProfit(prices)\n",
    "    print(sol)\n",
    "\n",
    "if __name__ == '__main__':\n",
    "    main()"
   ]
  },
  {
   "cell_type": "code",
   "execution_count": null,
   "metadata": {},
   "outputs": [],
   "source": [
    "# Python \n",
    "class Solution:\n",
    "    def maxProfit(self, prices: List[int]) -> int:\n",
    "        minimum = prices[0]\n",
    "        length = len(prices) \n",
    "        profit = 0\n",
    "\n",
    "        for i in range(1, length):\n",
    "            profit = max(profit, prices[i] - minimum)\n",
    "            minimum = min(minimum, prices[i])\n",
    "        return profit\n",
    "\n",
    "# time complexity\n",
    "# O(n)"
   ]
  },
  {
   "cell_type": "code",
   "execution_count": null,
   "metadata": {
    "vscode": {
     "languageId": "javascript"
    }
   },
   "outputs": [],
   "source": [
    "// Javascript"
   ]
  }
 ],
 "metadata": {
  "kernelspec": {
   "display_name": "Python 3",
   "language": "python",
   "name": "python3"
  },
  "language_info": {
   "codemirror_mode": {
    "name": "ipython",
    "version": 3
   },
   "file_extension": ".py",
   "mimetype": "text/x-python",
   "name": "python",
   "nbconvert_exporter": "python",
   "pygments_lexer": "ipython3",
   "version": "3.8.10"
  },
  "orig_nbformat": 4
 },
 "nbformat": 4,
 "nbformat_minor": 2
}
