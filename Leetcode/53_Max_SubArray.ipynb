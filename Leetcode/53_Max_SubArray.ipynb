{
 "cells": [
  {
   "attachments": {},
   "cell_type": "markdown",
   "metadata": {},
   "source": [
    "### Maximum Subarray<br>\n",
    "\n",
    "***\n",
    "\n",
    "<br>"
   ]
  },
  {
   "cell_type": "code",
   "execution_count": null,
   "metadata": {},
   "outputs": [],
   "source": [
    "'''\n",
    "Given an integer array nums, find the \n",
    "subarray with the largest sum, and return its sum.\n",
    "\n",
    " \n",
    "\n",
    "Example 1:\n",
    "\n",
    "Input: nums = [-2,1,-3,4,-1,2,1,-5,4]\n",
    "Output: 6\n",
    "Explanation: The subarray [4,-1,2,1] has the largest sum 6.\n",
    "Example 2:\n",
    "\n",
    "Input: nums = [1]\n",
    "Output: 1\n",
    "Explanation: The subarray [1] has the largest sum 1.\n",
    "Example 3:\n",
    "\n",
    "Input: nums = [5,4,-1,7,8]\n",
    "Output: 23\n",
    "Explanation: The subarray [5,4,-1,7,8] has the largest sum 23.\n",
    " \n",
    "\n",
    "Constraints:\n",
    "\n",
    "1 <= nums.length <= 105\n",
    "-104 <= nums[i] <= 104\n",
    "'''"
   ]
  },
  {
   "cell_type": "code",
   "execution_count": null,
   "metadata": {},
   "outputs": [],
   "source": [
    "'''\n",
    "leet code suggestion: try divide and conquer approach, it's more subtle with recursion\n",
    "'''\n",
    "\n",
    "nums = [-2, 1, -3, 4, -1, 2, 1, -5, 4] # output: 6 [4, -1, 2, 1]\n",
    "\n",
    "def maxSubArray(nums):\n",
    "    currentSum = nums[0]\n",
    "    maxSum = nums[0]\n",
    "\n",
    "    for i in range(len(nums)):\n",
    "        if currentSum >= 0:\n",
    "            currentSum += nums[i]\n",
    "        else:\n",
    "            currentSum = nums[i]\n",
    "        maxSum = max(currentSum, maxSum)\n",
    "    return maxSum\n",
    "\n",
    "def main():\n",
    "    sol = maxSubArray(nums)\n",
    "    print(sol)\n",
    "\n",
    "if __name__ == '__main__':\n",
    "    main()"
   ]
  },
  {
   "cell_type": "code",
   "execution_count": null,
   "metadata": {},
   "outputs": [],
   "source": [
    "# Python\n",
    "class Solution:\n",
    "    def maxSubArray(self, nums: List[int]) -> int:\n",
    "        maxSub = nums[0]\n",
    "        curr = 0\n",
    "        \n",
    "        for n in nums:\n",
    "            if curr < 0:\n",
    "                curr = 0\n",
    "            curr += n\n",
    "            maxSub = max(maxSub, curr)\n",
    "        return maxSub"
   ]
  },
  {
   "cell_type": "code",
   "execution_count": null,
   "metadata": {},
   "outputs": [],
   "source": [
    "# Python\n",
    "class Solution:\n",
    "    def maxSubArray(self, nums: List[int]) -> int:\n",
    "        n = len(nums)\n",
    "        if n == 0: return 0\n",
    "\n",
    "        max_sum = nums[0]\n",
    "        curr_sum = nums[0]\n",
    "\n",
    "        for i in range(1, n):\n",
    "            curr_sum = max(curr_sum + nums[i], nums[i])\n",
    "            max_sum = max(max_sum, curr_sum)\n",
    "\n",
    "        return max_sum"
   ]
  }
 ],
 "metadata": {
  "language_info": {
   "name": "python"
  },
  "orig_nbformat": 4
 },
 "nbformat": 4,
 "nbformat_minor": 2
}
