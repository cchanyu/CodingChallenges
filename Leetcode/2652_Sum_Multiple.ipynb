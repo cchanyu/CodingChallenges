{
 "cells": [
  {
   "attachments": {},
   "cell_type": "markdown",
   "metadata": {},
   "source": [
    "### 2652. Sum Multiples<br>\n",
    "\n",
    "***\n",
    "\n",
    "Level: Easy<br>"
   ]
  },
  {
   "attachments": {},
   "cell_type": "markdown",
   "metadata": {},
   "source": [
    "https://leetcode.com/problems/sum-multiples/"
   ]
  },
  {
   "cell_type": "code",
   "execution_count": null,
   "metadata": {},
   "outputs": [],
   "source": [
    "# Given a positive integer n, find the sum of all integers in the range [1, n] inclusive that are divisible by 3, 5, or 7.\n",
    "\n",
    "# Return an integer denoting the sum of all numbers in the given range satisfying the constraint.\n",
    "\n",
    " \n",
    "\n",
    "# Example 1:\n",
    "\n",
    "# Input: n = 7\n",
    "# Output: 21\n",
    "# Explanation: Numbers in the range [1, 7] that are divisible by 3, 5, or 7 are 3, 5, 6, 7. The sum of these numbers is 21.\n",
    "# Example 2:\n",
    "\n",
    "# Input: n = 10\n",
    "# Output: 40\n",
    "# Explanation: Numbers in the range [1, 10] that are divisible by 3, 5, or 7 are 3, 5, 6, 7, 9, 10. The sum of these numbers is 40.\n",
    "# Example 3:\n",
    "\n",
    "# Input: n = 9\n",
    "# Output: 30\n",
    "# Explanation: Numbers in the range [1, 9] that are divisible by 3, 5, or 7 are 3, 5, 6, 7, 9. The sum of these numbers is 30."
   ]
  },
  {
   "cell_type": "code",
   "execution_count": null,
   "metadata": {},
   "outputs": [],
   "source": [
    "class Solution(object):\n",
    "    def sumOfMultiples(self, n):\n",
    "        \"\"\"\n",
    "        :type n: int\n",
    "        :rtype: int\n",
    "        \"\"\"\n",
    "        inclusive_range = range(1, n+1)\n",
    "        ans = 0\n",
    "        for num in inclusive_range:\n",
    "            if num % 3 == 0 or num % 5 == 0 or num % 7 == 0:\n",
    "                ans += num\n",
    "        return ans"
   ]
  },
  {
   "attachments": {},
   "cell_type": "markdown",
   "metadata": {},
   "source": [
    "create a range to loop over<br>\n",
    "while in the loop, if it's divisible by either of number, it counts towards the sum.<br>\n",
    "return the ans<br>"
   ]
  }
 ],
 "metadata": {
  "language_info": {
   "name": "python"
  },
  "orig_nbformat": 4
 },
 "nbformat": 4,
 "nbformat_minor": 2
}
