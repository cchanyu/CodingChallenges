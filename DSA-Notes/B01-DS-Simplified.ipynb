{
 "cells": [
  {
   "attachments": {},
   "cell_type": "markdown",
   "metadata": {},
   "source": [
    "### DS Simplified Version<br>\n",
    "\n",
    "***\n",
    "\n",
    "Link: https://www.youtube.com/watch?v=sVxBVvlnJsM<br>"
   ]
  },
  {
   "attachments": {},
   "cell_type": "markdown",
   "metadata": {},
   "source": [
    "data is a record of a thing<br>\n",
    "and these datas come together, it becomes a compound data<br>\n",
    "\n",
    "Ex. Apple's Stock price at 4PM<br>\n",
    "vs. Apple's Stock price from last 24 hours<br>\n",
    "\n",
    "No Data Structure is perfect - every DS has its own pros and cons<br>\n",
    "DS' performance is measured by 4 things<br>\n",
    ".add(), .get(), .sort(), .search()<br>\n"
   ]
  },
  {
   "attachments": {},
   "cell_type": "markdown",
   "metadata": {},
   "source": [
    "**Linked List**<br>\n",
    "It uses node system<br>\n",
    "(head)12->8->5(tail)<br>\n",
    "\n",
    "Pro<br>\n",
    "- good at adding new items<br>\n",
    "- good at deleting items<br>\n",
    "\n",
    "Con<br>\n",
    "- not good at getting / retrieving items<br>\n",
    "- not good at searching items<br>\n",
    "\n",
    "because each node is only aware of the nodes next to it<br>"
   ]
  },
  {
   "attachments": {},
   "cell_type": "markdown",
   "metadata": {},
   "source": [
    "**Array**<br>\n",
    "Array is played continous blocks of cells in the computer memory<br>\n",
    "It keeps track of memory location<br>\n",
    "\n",
    "location 1000<br>\n",
    "arr[5]<br>\n",
    "location 1000+5<br>\n",
    "\n",
    "Pro<br>\n",
    "- good at retrieving items<br>\n",
    "\n",
    "Con<br>\n",
    "- not good at adding items<br>\n",
    "\n",
    "because arrays can run into other memory, resulting in having to relocate to another memory<br>\n",
    "High level languages does this job for you (Python, Java), but in lower level languages, you have to declare the size first<br>\n"
   ]
  },
  {
   "attachments": {},
   "cell_type": "markdown",
   "metadata": {},
   "source": [
    "**Hash Table**<br>\n",
    "Object in JS<br>\n",
    "or Dictionary in Python<br>\n",
    "\n",
    "Hash Table is key-value pair and retreive the definition<br>\n",
    "Key gets run through a hashing function, and function will spit out the memory location for you<br>\n",
    "It's not like array, because cells don't have to be next to each other<br>\n",
    "\n",
    "depending on the hashing algorithm<br>\n",
    "2 keys can be hashed to the same memory location and this is known as collision<br\n",
    "but this gets resolved in high level languages<br>\n",
    "\n",
    "Pro<br>\n",
    "- good at adding<br>\n",
    "- good at removing<br>\n",
    "- good at retrieving<br>\n",
    "\n",
    "Con<br>\n",
    "- key collisions<br>"
   ]
  },
  {
   "attachments": {},
   "cell_type": "markdown",
   "metadata": {},
   "source": [
    "**Stack + Queue**<br>\n",
    "They're both similar and built on top of Arrays with additional features<br>\n",
    "\n",
    "Stack - last in, first out<br>\n",
    ".push(1)<br>\n",
    ".pop()<br>\n",
    "\n",
    "Ex. tray stacking in cafeteria<br>\n",
    "You stack it on top of another tray, you need to remove the top tray first<br>\n",
    "\n",
    "every language tracks with something called call stack<br>\n",
    "stacks are also important for Depth First Search<br>\n",
    "\n",
    "\n",
    "Queue - first in, first out<br>\n",
    ".enqueue(1)<br>\n",
    ".dequeue()<br>\n",
    "\n",
    "Ex. lines in the train<br>\n",
    "queues are used for Breadth First Search<br>\n",
    "\n",
    "Pro<br>\n",
    "- efficient at adding + removing<br>\n",
    "\n",
    "Con<br>\n",
    "- limited use cases<br>"
   ]
  },
  {
   "attachments": {},
   "cell_type": "markdown",
   "metadata": {},
   "source": [
    "**Graphs + Tree**<br>\n",
    "This is a big topic, there's an entire field called Graph Theory<br>\n",
    "\n",
    "graph is similar to linkedlist, where you have nodes, pointing to other nodes<br>\n",
    "except that pointers are called edges<br>\n",
    "edges can also have weights<br>\n",
    "\n",
    "Ex. NY to Boston<br>\n",
    "road between them is edge, the weight is 215 miles<br>\n",
    "complicated relationships like social media network are also stored as graphs<br>\n",
    "\n",
    "Tree only expand out in one direction<br>\n",
    "Parents, Child..<br>\n",
    "or HTML tree with nested elements<br>\n",
    "\n",
    "Binary Search Tree<br>\n",
    "BST has a really specific rules<br>\n",
    "each node can have maximum of 2 children, left and right<br>\n",
    "left has to be smaller than node's value<br>\n",
    "right has to be bigger than node's value<br>\n",
    "\n",
    "There are self balancing trees<br>\n"
   ]
  }
 ],
 "metadata": {
  "language_info": {
   "name": "python"
  },
  "orig_nbformat": 4
 },
 "nbformat": 4,
 "nbformat_minor": 2
}
