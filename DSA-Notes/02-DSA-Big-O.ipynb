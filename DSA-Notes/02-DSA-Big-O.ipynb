{
 "cells": [
  {
   "attachments": {},
   "cell_type": "markdown",
   "metadata": {},
   "source": [
    "### DSA - Intro to Big O<br>\n",
    "\n",
    "***\n",
    "\n",
    "<br>"
   ]
  },
  {
   "attachments": {},
   "cell_type": "markdown",
   "metadata": {},
   "source": [
    "**Computational Complexity Analysis**<br>\n",
    "\n",
    "**Complexity Analysis**<br>\n",
    "\n",
    "How much **time** does this algorithm need to finish?<br>\n",
    "How much **space** does this algorithm need for its computation?<br>\n",
    "<br>\n",
    "\n",
    "**Big-O Notation**<br>\n",
    "\n",
    "Big-Theta - Average case<br>\n",
    "Big-Omega - Best case<br>\n",
    "Big-O - Worst case<br>\n",
    "\n",
    "Big-O only cares about the worst case of unsorted lists<br>\n",
    "\n",
    "n - the size of the input<br>\n",
    "Complexities ordered in from smallest to largest<br>\n",
    "\n",
    "Constant Time: O(1)<br>\n",
    "Logarithmic Time: O(log(n))<br>\n",
    "Linear Time: O(n)<br>\n",
    "Linearithmic Time: O(nlog(n))<br>\n",
    "Quadric Time: O(n^2)<br>\n",
    "Cubic Time: O(n^3)<br>\n",
    "Exponential Time: O(b^n), b > 1<br>\n",
    "Factorial Time: O(n!)<br>"
   ]
  },
  {
   "cell_type": "markdown",
   "metadata": {},
   "source": []
  }
 ],
 "metadata": {
  "language_info": {
   "name": "python"
  },
  "orig_nbformat": 4
 },
 "nbformat": 4,
 "nbformat_minor": 2
}
