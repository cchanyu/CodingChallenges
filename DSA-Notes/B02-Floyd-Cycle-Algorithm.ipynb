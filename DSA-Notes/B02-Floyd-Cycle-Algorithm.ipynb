{
 "cells": [
  {
   "attachments": {},
   "cell_type": "markdown",
   "metadata": {},
   "source": [
    "### Floyd’s Cycle Detection Algorithm<br>\n",
    "\n",
    "***\n",
    "\n",
    "Link: <br>"
   ]
  },
  {
   "attachments": {},
   "cell_type": "markdown",
   "metadata": {},
   "source": [
    "Floyd's Algorithm and Floyd's Cycle Algorithm are not the same thing<br>\n",
    "\n",
    "**Floyd's Algorithm (also known as Floyd-Warshall Algorithm)**: Floyd's Algorithm is a graph algorithm used to find the shortest paths between all pairs of vertices in a weighted graph.<br>\n",
    "It calculates the shortest path distances by iteratively updating the distance matrix based on intermediate vertices.<br>\n",
    "\n",
    "**Floyd's Cycle Detection Algorithm (also known as Floyd's Tortoise and Hare Algorithm)**: Floyd's Cycle Detection Algorithm is used to detect cycles in a linked list or an array.<br>\n",
    "It employs two pointers, one moving at a slower pace (tortoise) and the other at a faster pace (hare), to determine if there is a loop in the data structure.<br>"
   ]
  },
  {
   "cell_type": "code",
   "execution_count": null,
   "metadata": {
    "vscode": {
     "languageId": "plaintext"
    }
   },
   "outputs": [],
   "source": [
    "function hasCycle(head) {\n",
    "    let fast = head\n",
    "    let slow = head\n",
    "    while (fast && fast.next) {\n",
    "        fast = fast.next.next\n",
    "        slow = slow.next\n",
    "        if (fast == slow) return true\n",
    "    }\n",
    "    return false\n",
    "}"
   ]
  },
  {
   "attachments": {},
   "cell_type": "markdown",
   "metadata": {},
   "source": [
    "time complexity: O(n)<br>\n",
    "space complexity: O(1) because of pointers<br>"
   ]
  }
 ],
 "metadata": {
  "language_info": {
   "name": "python"
  },
  "orig_nbformat": 4
 },
 "nbformat": 4,
 "nbformat_minor": 2
}
