{
 "cells": [
  {
   "attachments": {},
   "cell_type": "markdown",
   "metadata": {},
   "source": [
    "### DSA - Abstract Data Types<br>\n",
    "\n",
    "***\n",
    "\n",
    "**https://www.youtube.com/watch?v=RBSGKlAvoiM**<br>"
   ]
  },
  {
   "attachments": {},
   "cell_type": "markdown",
   "metadata": {},
   "source": [
    "**Data structure** is one way of organizing the data<br>\n",
    "So it can be used efficiently (to access and queried easily)<br>\n",
    "\n",
    "They're essential ingredients in creating fast and powerful algorithms<br>\n",
    "They help to manage and organize data<br>\n",
    "They make codes cleaner and easier to understand<Br>\n",
    "\n",
    "Understanding the fundamental is critical<br>\n"
   ]
  },
  {
   "attachments": {},
   "cell_type": "markdown",
   "metadata": {},
   "source": [
    "**Abstract Data Types vs. Data Structures**<br>\n",
    "\n",
    "**An abstract data type (ADT)** is an abstraction of a data structure<br>\n",
    "which provides only the interface to which a data structure must adhere(stick fast) to<br>\n",
    "\n",
    "The interface does not give any specific details about how something should be implemented or in what programming language<br>\n",
    "\n",
    "Ex. Mode of transportation from point A to point B<br>\n",
    "There are many modes of transportation from one place to another<br>\n",
    "\n",
    "Abstraction (ADT) - Imnplementation (DS)<br>\n",
    "List - Dynamic Array, Linked List<br>\n",
    "Queue - Linked List based Queue, Array based Queue, Stack based Queue<br>\n",
    "Map - Tree Map, Hash Map / Hash Table<Br>\n",
    "Vehicle - Golf cart, Bicycle, Smart Car<br>\n",
    "\n"
   ]
  }
 ],
 "metadata": {
  "language_info": {
   "name": "python"
  },
  "orig_nbformat": 4
 },
 "nbformat": 4,
 "nbformat_minor": 2
}
