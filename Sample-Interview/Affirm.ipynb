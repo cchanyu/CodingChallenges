{
 "cells": [
  {
   "attachments": {},
   "cell_type": "markdown",
   "metadata": {},
   "source": [
    "### Affirm<br>\n",
    "\n",
    "***\n",
    "\n",
    "<br>"
   ]
  },
  {
   "attachments": {},
   "cell_type": "markdown",
   "metadata": {},
   "source": [
    "**1.How would you implement a persistent stack?<br>**\n",
    "\n",
    "**2.Given 2 words and a dictionary, return the shortest path between 2 words.<br>**\n",
    "\n",
    "**3.Describe your previous software engineering experience.<br>**\n",
    "\n",
    "**4.Implement a persistent stack.<br>**\n",
    "\n",
    "**5.Design an A/B testing framework.<br>**\n"
   ]
  }
 ],
 "metadata": {
  "language_info": {
   "name": "python"
  },
  "orig_nbformat": 4
 },
 "nbformat": 4,
 "nbformat_minor": 2
}
