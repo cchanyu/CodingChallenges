{
 "cells": [
  {
   "attachments": {},
   "cell_type": "markdown",
   "metadata": {},
   "source": [
    "### ACI WorldWide<br>\n",
    "\n",
    "***\n",
    "\n",
    "<br>"
   ]
  },
  {
   "attachments": {},
   "cell_type": "markdown",
   "metadata": {},
   "source": [
    "**1. When will the Java Math.abs() function return a negative value? And why?<br>**\n",
    "If it passes the maximum value of int, which is 2.14 billion<br>\n",
    "\n",
    "**2. Join 3 tables using Inner Join<br>**\n",
    "SELECT * FROM TABLE1<br>\n",
    "INNER JOIN TABLE2<br>\n",
    "INNER JOIN TABLE3<br>\n",
    "\n",
    "**3. Knowledge of DBMS concepts along with OOPs<br>**\n",
    "DBMS - Database Management System - SQL stuff<br>\n",
    "OOP - classes, objects, inheritance, encapsulation, polymorphism, abstraction<br>\n",
    "\n",
    "**4. Normalise your project database<br>**\n",
    "Identify the entities (customers, orders, product) and their relationships<br>\n",
    "Create a preliminary data model with relationships<br>\n",
    "Apply 1NF, 2NF, 3NF, 4NF, 5NF<br>\n",
    "\n",
    "**5. How does a hashmap work under the hood?<br>**\n",
    "Hashmap is a specific type of Hashtable<br>\n",
    "Hashmap data structure allows fast retrieval of values using keys.<br>\n",
    "It uses array to stores key-value pair. key is hashed into index of the array<br>\n",
    "\n",
    "Hashing - key is hashed using hash function, produces indexx that corresponds to underlying array<br>\n",
    "returns an int value that represents where value is stored<br>\n",
    "Collision resolution - when collision occurs, new key-value pair is simply added to the linked list<br>\n",
    "Retrieval - hash function to find the index in the array, if there's multiple, it'll search through the linked list<br>\n",
    "Resizing - to prevent excessive collision, hashmap will dynamically resize the underlying array as needed.<br>\n",
    "when rehashed, all the existing key-value pairs must be inserted into new array<br>\n",
    "\n",
    "**6. What is the difference between ArrayList and LinkedList.<br>**\n",
    "ArrayList - uses array list to store data<br>\n",
    "LinkedList - uses linked list to store data<br>\n",
    "\n",
    "LinkedList is O(1) in insertion and deletion, because it doesn't need to shift anything, but only change the pointer<br>\n",
    "ArrayList faster on iteration and memory usage, making it good use for random access<br>\n",
    "\n",
    "**7. What is the meaning of the keyword \"exclude\" in Maven pom-file?<br>**\n",
    "\n",
    "\n",
    "**8. What is the difference between comparator and comparable interface?<br>**\n",
    "\n"
   ]
  }
 ],
 "metadata": {
  "language_info": {
   "name": "python"
  },
  "orig_nbformat": 4
 },
 "nbformat": 4,
 "nbformat_minor": 2
}
