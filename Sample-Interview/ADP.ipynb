{
 "cells": [
  {
   "attachments": {},
   "cell_type": "markdown",
   "metadata": {},
   "source": [
    "### ADP<br>\n",
    "\n",
    "***\n",
    "\n",
    "<br>"
   ]
  },
  {
   "attachments": {},
   "cell_type": "markdown",
   "metadata": {},
   "source": [
    "**1.Hashmap versus Hashset?**<br>\n",
    "\n",
    "**2.OOPs and data structures.**<br>\n",
    "\n",
    "**3.Some basic concepts about relational database**<br>\n",
    "\n",
    "**4.How do you do a depth-first traversal?**<br>\n",
    "\n",
    "**5.Tell me about your past projects and how you can use your experience here.**<br>\n",
    "\n",
    "**6.What is abstract class?**<br>\n",
    "\n",
    "**7.What is polymorphism?**<br>\n",
    "\n",
    "**8.Asked about how oAuth is working**<br>\n",
    "\n",
    "**9.Data structures and programming questions, logical questions**<br>\n",
    "\n",
    "**10.Questions related to dbms, java, c, c++ and databases**<br>\n",
    "\n",
    "**11.What is encapsulation?**<br>\n",
    "\n",
    "**12.Fibonacci sequence and then binary searching.**<br>\n",
    "\n",
    "**13.Core Java, Collections, logical programs > Spring Framework > Hibernate > UI > DesignPatterns.**<br>\n",
    "\n",
    "**14.Difference between J Query and JavaScript**<br>\n"
   ]
  }
 ],
 "metadata": {
  "language_info": {
   "name": "python"
  },
  "orig_nbformat": 4
 },
 "nbformat": 4,
 "nbformat_minor": 2
}
