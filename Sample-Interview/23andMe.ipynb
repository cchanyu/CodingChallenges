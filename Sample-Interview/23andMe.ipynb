{
 "cells": [
  {
   "attachments": {},
   "cell_type": "markdown",
   "metadata": {},
   "source": [
    "### 23andMe<br>\n",
    "\n",
    "***\n",
    "\n",
    "<br>"
   ]
  },
  {
   "attachments": {},
   "cell_type": "markdown",
   "metadata": {},
   "source": [
    "**1. Implement a fibonacci sequence.<br>**\n",
    "Fibonacci sequence can apply Dynamic Programming<br>\n",
    "Because it's using previously stored data to compute the next value<br>"
   ]
  },
  {
   "cell_type": "code",
   "execution_count": 9,
   "metadata": {},
   "outputs": [
    {
     "name": "stdout",
     "output_type": "stream",
     "text": [
      "0\n",
      "1\n",
      "1\n",
      "2\n",
      "3\n",
      "5\n",
      "8\n",
      "13\n",
      "21\n",
      "34\n"
     ]
    }
   ],
   "source": [
    "def fibonacci(k, arr):\n",
    "    if (k == 0): arr[k] = 0\n",
    "    elif (k == 1): arr[k] = 1\n",
    "    elif (arr[k] == None): arr[k] = fibonacci(k-1, arr) + fibonacci(k-2, arr)\n",
    "    return arr[k]\n",
    "\n",
    "arr = [None] * 10  # initialize an array of length 10 with None values\n",
    "for i in range(10):\n",
    "    print(fibonacci(i, arr))"
   ]
  },
  {
   "attachments": {},
   "cell_type": "markdown",
   "metadata": {},
   "source": [
    "**2. Given a list of intervals, consolidate them. Ex: given something like [[1, 2], [2, 5], [7, 10], [8, 11]] return something like [[1, 5], [7,11]].<br>**\n",
    "\n",
    "\n"
   ]
  },
  {
   "cell_type": "code",
   "execution_count": 18,
   "metadata": {},
   "outputs": [
    {
     "name": "stdout",
     "output_type": "stream",
     "text": [
      "int 2 2\n",
      "curr int [1, 5]\n",
      "int 8 10\n",
      "[[1, 5], [7, 11]]\n"
     ]
    }
   ],
   "source": [
    "def Consolidate(intervals):\n",
    "    # sort the intervals based on the starting points\n",
    "    intervals = sorted(intervals, key=lambda x: x[0])\n",
    "    \n",
    "    # initialize an empty result list and start with the first interval\n",
    "    result = []\n",
    "    current_interval = intervals[0]\n",
    "    \n",
    "    # iterate over the remaining intervals, merging any overlaps\n",
    "    for interval in intervals[1:]:\n",
    "        if interval[0] <= current_interval[1]:  # overlap detected\n",
    "            print(\"int\", interval[0], current_interval[1])\n",
    "            current_interval[1] = max(current_interval[1], interval[1])  # merge\n",
    "        else:  # no overlap, start a new interval\n",
    "            result.append(current_interval)\n",
    "            print(\"curr int\", current_interval)\n",
    "            current_interval = interval\n",
    "    \n",
    "    # add the last interval to the result\n",
    "    result.append(current_interval)\n",
    "    \n",
    "    return result\n",
    "\n",
    "list1 = [[1, 2], [2, 5], [7, 10], [8, 11]]\n",
    "consolidated = Consolidate(list1)\n",
    "print(consolidated)"
   ]
  },
  {
   "attachments": {},
   "cell_type": "markdown",
   "metadata": {},
   "source": [
    "**3. What's a hash table and how does it work?<br>**\n",
    "Hash table stores the value by modding them and using Hash operations to insert it.<br>\n",
    "the mod # is based on the index's size.<br>\n",
    "\n",
    "**4. What's a collision?<br>**\n",
    "Collision occurs when the space in the hash table bucket is already filled. So the space is occupied.<br>\n",
    "\n",
    "**5. How does a hash table handle collisions?<br>**\n",
    "This problem could be solved by using chaining method, using node pointers<br>\n",
    "\n",
    "**6. Make an API call and display the data.<br>**\n",
    "grab an URI, make an HTTP call (GET, POST, PUT, DELETE)<br>\n",
    "set a header, to tell API about my request<br>\n",
    "include an access token in .env variable<br>\n",
    "\n",
    "\n",
    "**7. Write a Selenium-based automation (preferably in Python) for testing an online store.<br>**\n"
   ]
  },
  {
   "cell_type": "code",
   "execution_count": null,
   "metadata": {},
   "outputs": [],
   "source": []
  }
 ],
 "metadata": {
  "kernelspec": {
   "display_name": "Python 3",
   "language": "python",
   "name": "python3"
  },
  "language_info": {
   "codemirror_mode": {
    "name": "ipython",
    "version": 3
   },
   "file_extension": ".py",
   "mimetype": "text/x-python",
   "name": "python",
   "nbconvert_exporter": "python",
   "pygments_lexer": "ipython3",
   "version": "3.8.10"
  },
  "orig_nbformat": 4
 },
 "nbformat": 4,
 "nbformat_minor": 2
}
