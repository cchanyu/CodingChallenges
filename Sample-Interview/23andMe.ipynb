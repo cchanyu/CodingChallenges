{
 "cells": [
  {
   "attachments": {},
   "cell_type": "markdown",
   "metadata": {},
   "source": [
    "### 23andMe<br>\n",
    "\n",
    "***\n",
    "\n",
    "<br>"
   ]
  },
  {
   "attachments": {},
   "cell_type": "markdown",
   "metadata": {},
   "source": [
    "**1. Implement a fibonacci sequence.<br>**\n",
    "\n",
    "**2. Given a list of intervals, consolidate them. Ex: given something like [[1, 2], [2, 5], [7, 10], [8, 11]] return something like [[1, 5], [7,11]].<br>**\n",
    "\n",
    "\n",
    "**3. What's a hash table and how does it work?<br>**\n",
    "Hash table stores the value by modding them and using Hash operations to insert it.<br>\n",
    "the mod # is based on the index's size.<br>\n",
    "\n",
    "**4. What's a collision?<br>**\n",
    "Collision occurs when the space in the hash table bucket is already filled. So the space is occupied.<br>\n",
    "\n",
    "**5. How does a hash table handle collisions?<br>**\n",
    "This problem could be solved by using chaining method, using node pointers<br>\n",
    "\n",
    "**6. Make an API call and display the data.<br>**\n",
    "grab an URI, make an HTTP call (GET, POST, PUT, DELETE)<br>\n",
    "set a header, to tell API about my request<br>\n",
    "include an access token in .env variable<br>\n",
    "\n",
    "\n",
    "**7. Write a Selenium-based automation (preferably in Python) for testing an online store.<br>**\n"
   ]
  }
 ],
 "metadata": {
  "language_info": {
   "name": "python"
  },
  "orig_nbformat": 4
 },
 "nbformat": 4,
 "nbformat_minor": 2
}
