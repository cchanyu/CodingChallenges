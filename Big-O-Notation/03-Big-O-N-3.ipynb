{
 "cells": [
  {
   "attachments": {},
   "cell_type": "markdown",
   "metadata": {},
   "source": [
    "### Big O(n^3)<br>\n",
    "\n",
    "***\n",
    "\n",
    "<br>"
   ]
  },
  {
   "cell_type": "code",
   "execution_count": null,
   "metadata": {},
   "outputs": [],
   "source": [
    "function cube(n) {\n",
    "    for(let i = 0; i < n; i++) {\n",
    "        for(let j = 0; j < n; j++) {\n",
    "            for(let k = 0; k < n; k++){\n",
    "                console.log(i,j,k);\n",
    "            }\n",
    "        }\n",
    "    }\n",
    "}"
   ]
  },
  {
   "attachments": {},
   "cell_type": "markdown",
   "metadata": {},
   "source": [
    "using the function above, we'll execute cube(4)<br>\n",
    "rows x columns x height : 3-dimensional array<br>\n",
    "same concept as n^2<br>\n",
    "\n",
    "i = 0-3, then j += 1<br>\n",
    "j = 0-3, then k += 1<br>\n",
    "k = 0-3, loop stops<br>\n",
    "4 x 4 x 4 = 64 OR 4^3<br>\n",
    "\n",
    "O(n^3), in this case: O(4^3)<br>\n"
   ]
  }
 ],
 "metadata": {
  "kernelspec": {
   "display_name": "Python 3",
   "language": "python",
   "name": "python3"
  },
  "language_info": {
   "codemirror_mode": {
    "name": "ipython",
    "version": 3
   },
   "file_extension": ".py",
   "mimetype": "text/x-python",
   "name": "python",
   "nbconvert_exporter": "python",
   "pygments_lexer": "ipython3",
   "version": "3.8.10"
  },
  "orig_nbformat": 4
 },
 "nbformat": 4,
 "nbformat_minor": 2
}
