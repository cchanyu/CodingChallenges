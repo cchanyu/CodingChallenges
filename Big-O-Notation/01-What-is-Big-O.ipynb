{
 "cells": [
  {
   "attachments": {},
   "cell_type": "markdown",
   "metadata": {},
   "source": [
    "### What is Big O?<br>\n",
    "\n",
    "***\n",
    "\n",
    "**https://www.youtube.com/watch?v=Mo4vesaut8g**<br>"
   ]
  },
  {
   "cell_type": "code",
   "execution_count": null,
   "metadata": {},
   "outputs": [],
   "source": [
    "# this loop is linear or Big O(n)\n",
    "function linearFunc(arr) {\n",
    "    for(let i = 0; i < arr.length; i++) {\n",
    "        console.log(1000 * 100000) # <= Constant time\n",
    "        let something = (20000000 * 20000000) / 2; # <= Constant time\n",
    "        console.log(something) # <= Constant time\n",
    "    }\n",
    "}\n",
    "\n",
    "const arr = [1,2,3,4,5,6,7]\n",
    "linearFunc(arr)"
   ]
  },
  {
   "attachments": {},
   "cell_type": "markdown",
   "metadata": {},
   "source": [
    "When it comes to efficiency, these lines that take constant times do not matter<br>\n",
    "Because constant is not scalable<br>\n",
    "Even if the array is 200,000,000, we still need to iterate 200 million times<br>\n",
    "\n",
    "Ex. Dentist example<br>\n",
    "Whether she took 30 minutes per patient or 3 hours per patient the amount of time to see her all of patient still scale linearly<br>\n",
    "<br>\n",
    "\n",
    "**What is Constant?**<br>\n",
    "\n",
    "a constant is any step that doesn't scale with the input to the function<br>\n",
    "time to evaluate (1000 * 100000) expression doesn't change with the input<br>\n",
    "Constant Algorithms: Big O(1)<br>\n"
   ]
  },
  {
   "cell_type": "code",
   "execution_count": null,
   "metadata": {},
   "outputs": [],
   "source": [
    "# Big O(n)\n",
    "function linearFunc(arr) {\n",
    "    for(let i = 0; i < arr.length; i++) { # <- O(n)\n",
    "        console.log(1000 * 100000) # <= O(1)\n",
    "        let something = (20000000 * 20000000) / 2; # <= O(1)\n",
    "        console.log(something) # <= O(1)\n",
    "    }\n",
    "}\n",
    "\n",
    "# Big O(1)\n",
    "function linearFunc(arr) {\n",
    "    console.log(1000 * 100000) # <= O(1)\n",
    "    let something = (20000000 * 20000000) / 2; # <= O(1)\n",
    "    console.log(something) # <= O(1)\n",
    "}"
   ]
  },
  {
   "attachments": {},
   "cell_type": "markdown",
   "metadata": {},
   "source": [
    "**Orders of Growth**<br>\n",
    "\n",
    "O(1) - Constant<br>\n",
    "O(log n) - Logarithmic<br>\n",
    "O(n) - Linear<br>\n",
    "O(n log n) - Linearithmic<br>\n",
    "O(n^2) - Quadratic<br>\n",
    "O(n^3) - Cubic<br>\n",
    "O(2^n) - Exponential<br>\n",
    "O(n!) - Factorial<br>\n",
    "\n",
    "**The ones relevant to examples above**<br>\n",
    "O(1) - Constant<br>\n",
    "O(n) - Linear<br>\n",
    "\n",
    "resulting linearFunc(arr) = O(n) + O(1) + O(1) + O(1) = O(n) is the worst performing<br>"
   ]
  }
 ],
 "metadata": {
  "language_info": {
   "name": "python"
  },
  "orig_nbformat": 4
 },
 "nbformat": 4,
 "nbformat_minor": 2
}
