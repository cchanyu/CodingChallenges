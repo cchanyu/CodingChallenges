{
 "cells": [
  {
   "attachments": {},
   "cell_type": "markdown",
   "metadata": {},
   "source": [
    "### Space Complexity<br>\n",
    "\n",
    "***\n",
    "\n",
    "<br>"
   ]
  },
  {
   "cell_type": "code",
   "execution_count": null,
   "metadata": {
    "vscode": {
     "languageId": "javascript"
    }
   },
   "outputs": [],
   "source": [
    "function countDown(n) {\n",
    "    if (n === 0) {\n",
    "        return;\n",
    "    }\n",
    "    return countDown(n-1);\n",
    "}"
   ]
  },
  {
   "attachments": {},
   "cell_type": "markdown",
   "metadata": {},
   "source": [
    "**Space Complexity:**<br>\n",
    "countdown(5)<br>\n",
    "countdown(4)<br>\n",
    "countdown(3)<br>\n",
    "countdown(2)<br>\n",
    "countdown(1)<br>\n",
    "countdown(0)<br>"
   ]
  },
  {
   "attachments": {},
   "cell_type": "markdown",
   "metadata": {},
   "source": [
    "since this is a recursive call, they still exists in the call stack.<br>\n",
    "until we reach our base case, and take up memories<br>\n",
    "\n",
    "5 calls taking up the space<br>\n",
    "O(n)<br>"
   ]
  },
  {
   "cell_type": "code",
   "execution_count": null,
   "metadata": {
    "vscode": {
     "languageId": "javascript"
    }
   },
   "outputs": [],
   "source": [
    "function twoLoops(a) {\n",
    "    for (let i = 0; i < a; i++) { // O(n)\n",
    "        // do something\n",
    "    }\n",
    "\n",
    "    for (let i = 0; i < a; i++) { // O(n)\n",
    "        // do something\n",
    "    }\n",
    "}"
   ]
  },
  {
   "attachments": {},
   "cell_type": "markdown",
   "metadata": {},
   "source": [
    "this is O(n) + O(n) = O(2n)<br>\n",
    "O(n)<br>"
   ]
  },
  {
   "cell_type": "code",
   "execution_count": null,
   "metadata": {
    "vscode": {
     "languageId": "javascript"
    }
   },
   "outputs": [],
   "source": [
    "function twoLoops(a,b) {\n",
    "    for (let i = 0; i < a; i++) { // O(n)\n",
    "        // do something\n",
    "    }\n",
    "\n",
    "    for (let i = 0; i < b; i++) { \n",
    "        // do something\n",
    "    }\n",
    "}\n",
    "// this is not O(2n), since a, b can be different sizes\n",
    "// so it's O(a + b)\n",
    "\n",
    "function twoLoops(a,b) {\n",
    "    for (let i = 0; i < a; i++) { \n",
    "        for (let i = 0; i < b; i++) { \n",
    "            // do something\n",
    "        }\n",
    "    }\n",
    "}\n",
    "// O(n^2) is wrong as well\n",
    "// O(a x b)"
   ]
  }
 ],
 "metadata": {
  "language_info": {
   "name": "python"
  },
  "orig_nbformat": 4
 },
 "nbformat": 4,
 "nbformat_minor": 2
}
