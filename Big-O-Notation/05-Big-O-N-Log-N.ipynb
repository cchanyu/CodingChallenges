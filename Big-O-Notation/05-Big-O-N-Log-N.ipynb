{
 "cells": [
  {
   "attachments": {},
   "cell_type": "markdown",
   "metadata": {},
   "source": [
    "### Big O(n Log n)<br>\n",
    "\n",
    "***\n",
    "\n",
    "<br>"
   ]
  },
  {
   "attachments": {},
   "cell_type": "markdown",
   "metadata": {},
   "source": [
    "If O(n) is like 1,<br>\n",
    "then n log n is like 1 1/2.<br>\n"
   ]
  },
  {
   "cell_type": "code",
   "execution_count": null,
   "metadata": {
    "vscode": {
     "languageId": "javascript"
    }
   },
   "outputs": [],
   "source": [
    "function nLogNFunc(n) {\n",
    "    let y = n;\n",
    "    while (n > 1) { \n",
    "        n = Math.floor(n / 2); // even though this is halfening \n",
    "        for (let i = 1; i <= y; i++) { // this inner loop has to run the original size of the loop\n",
    "            console.log(i);\n",
    "        }\n",
    "    }\n",
    "}"
   ]
  },
  {
   "cell_type": "code",
   "execution_count": null,
   "metadata": {
    "vscode": {
     "languageId": "javascript"
    }
   },
   "outputs": [],
   "source": [
    "function mergeSort(arr) {\n",
    "    if(arr.length < 2) {\n",
    "        return arr;\n",
    "    }\n",
    "\n",
    "    // [1, 2 ] arr.slice(0, arr.length-1)\n",
    "    const middleIndex = Math.floor(arr.length / 2);\n",
    "    const leftArr = arr.slice(0, middleIndex);\n",
    "    const rightArr = arr.slice(middleIndex, arr.length);\n",
    "\n",
    "    return merger(mergeSort(leftArr), mergeSort(rightArr))\n",
    "}\n",
    "\n",
    "function merger(leftArr, rightArr){\n",
    "    let resultArr = []\n",
    "    let leftIndex = 0\n",
    "    let rightIndex = 0\n",
    "\n",
    "    while (leftIndex < leftArr.length && rightIndex < rightArr.length) {\n",
    "        if (leftArr[leftIndex] < rightArr[rightIndex]){\n",
    "            resultArr.push(leftArr[leftIndex])\n",
    "            leftIndex += 1\n",
    "        } else {\n",
    "            resultArr.push(rightArr[rightIndex]);\n",
    "            rightIndex += 1;\n",
    "        }\n",
    "    } // O(n)\n",
    "    return resultArr.concat(leftArr.slice(leftIndex)).concat(rightArr.slice(rightIndex))\n",
    "}\n",
    "\n",
    "let arr = [7,5,4,3,2,11,17];\n",
    "console.log(mergeSort(arr));"
   ]
  }
 ],
 "metadata": {
  "language_info": {
   "name": "python"
  },
  "orig_nbformat": 4
 },
 "nbformat": 4,
 "nbformat_minor": 2
}
