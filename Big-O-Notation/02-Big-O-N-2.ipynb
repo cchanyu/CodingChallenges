{
 "cells": [
  {
   "attachments": {},
   "cell_type": "markdown",
   "metadata": {},
   "source": [
    "### Big O(n^2)<br>\n",
    "\n",
    "***\n",
    "\n",
    "<br>"
   ]
  },
  {
   "cell_type": "code",
   "execution_count": null,
   "metadata": {},
   "outputs": [],
   "source": [
    "function square(n) {\n",
    "    for(let i = 0; i < n; i++) {\n",
    "        for(let j = 0; j < n; j++) {\n",
    "            console.log(i,j);\n",
    "        }\n",
    "    }\n",
    "}"
   ]
  },
  {
   "attachments": {},
   "cell_type": "markdown",
   "metadata": {},
   "source": [
    "the function above is nested looping<br>\n",
    "and console logging a cell within a matrix<br>\n",
    "\n",
    "square(4)<br>\n",
    "draws 16 squares, 4 squares in each i<br>\n",
    "this is a matrix (row x column)<br>\n",
    "\n",
    "square matrix = each side is same length<br>\n",
    "area of square = Length^2 = 4x4 = 16 OR 4^2<br>\n",
    "so O(n^2), in this example: # of performed action 4^2<br>\n",
    "\n"
   ]
  }
 ],
 "metadata": {
  "language_info": {
   "name": "python"
  },
  "orig_nbformat": 4
 },
 "nbformat": 4,
 "nbformat_minor": 2
}
