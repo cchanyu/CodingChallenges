{
 "cells": [
  {
   "attachments": {},
   "cell_type": "markdown",
   "metadata": {},
   "source": [
    "### Big O(Log n)<br>\n",
    "\n",
    "***\n",
    "\n",
    "<br>"
   ]
  },
  {
   "attachments": {},
   "cell_type": "markdown",
   "metadata": {},
   "source": [
    "**Logarithms**<br>\n",
    "if O(n) is 1,<br>\n",
    "log n is like 1/2<br>\n",
    "\n",
    "number^number - number that needs to be raised to reach some other number<br>\n",
    "2^? = 8<br>\n",
    "Log^2(8) = ?<br>\n",
    "\n",
    "if you find ?, that's the solution<br>\n",
    "2^3 = 2x2x2 = 8<br>\n",
    "Log base 2 of 8 is 3<br>\n",
    "Note: Log base is always 2 in computer science<br>\n",
    "\n",
    "**O(Log n)**<br>\n"
   ]
  },
  {
   "cell_type": "code",
   "execution_count": null,
   "metadata": {
    "vscode": {
     "languageId": "javascript"
    }
   },
   "outputs": [],
   "source": [
    "// example\n",
    "n = 8\n",
    "\n",
    "// using this recursive func\n",
    "function logFunc(n) {\n",
    "    if (n === 0, return \"Done\");\n",
    "    n = Math.floor(n / 2);\n",
    "    return logFunc(n);\n",
    "}\n",
    "\n",
    "// 8 / 2 = 4 <- lvl1\n",
    "// 4 / 2 = 2 <- lvl2 \n",
    "// 2 / 2 = 1 <- this is lvl3 deep\n",
    "\n",
    "// so this is why it's O(log n)\n",
    "// because our n is 8"
   ]
  },
  {
   "cell_type": "code",
   "execution_count": null,
   "metadata": {
    "vscode": {
     "languageId": "javascript"
    }
   },
   "outputs": [],
   "source": [
    "// O(Log n) Iterative\n",
    "function logn(n) {\n",
    "    while (n > 1) {\n",
    "        n = Math.floor(n / 2)\n",
    "    }\n",
    "}"
   ]
  },
  {
   "cell_type": "code",
   "execution_count": null,
   "metadata": {
    "vscode": {
     "languageId": "javascript"
    }
   },
   "outputs": [],
   "source": [
    "// O(Log n) in Binary Search\n",
    "// ordered array, find 100\n",
    "\n",
    "// we start from the mid-point\n",
    "// and keep comparing mid-point to our target value\n",
    "let arr = [];\n",
    "let start = 0;\n",
    "let end = arr.length - 1;\n",
    "let target = 8;\n",
    "\n",
    "for(let i = 1; i <= 1024; i++) { arr.push(i) }\n",
    "\n",
    "function binarySearch(arr, start, end, target) {\n",
    "    console.log(arr.slice(start,end)); // console log only the start and the end\n",
    "    if (start > end) return false;\n",
    "    let midIdx = Math.floor((start + end) / 2);\n",
    "    if (arr[midIdx] === target) return true; // base case\n",
    "    if (arr[midIdx] > target) return binarySearch(arr, start, midIdx-1, target)\n",
    "    else return binarySearch(arr, midIdx+1, end, target)\n",
    "}\n",
    "\n",
    "console.log(binarySearch(arr, start, end, target)) // true"
   ]
  }
 ],
 "metadata": {
  "kernelspec": {
   "display_name": "Python 3",
   "language": "python",
   "name": "python3"
  },
  "language_info": {
   "codemirror_mode": {
    "name": "ipython",
    "version": 3
   },
   "file_extension": ".py",
   "mimetype": "text/x-python",
   "name": "python",
   "nbconvert_exporter": "python",
   "pygments_lexer": "ipython3",
   "version": "3.8.10"
  },
  "orig_nbformat": 4
 },
 "nbformat": 4,
 "nbformat_minor": 2
}
